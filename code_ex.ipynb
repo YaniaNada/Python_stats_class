{
 "cells": [
  {
   "cell_type": "markdown",
   "metadata": {},
   "source": [
    "LISTS"
   ]
  },
  {
   "cell_type": "code",
   "execution_count": 5,
   "metadata": {},
   "outputs": [
    {
     "name": "stdout",
     "output_type": "stream",
     "text": [
      "[0, 2, 4, 6, 8]\n"
     ]
    }
   ],
   "source": [
    "even_numbers = [x for x in range(10) if x%2 == 0]\n",
    "print(even_numbers)"
   ]
  },
  {
   "cell_type": "code",
   "execution_count": 46,
   "metadata": {},
   "outputs": [
    {
     "name": "stdout",
     "output_type": "stream",
     "text": [
      "[0, 2, 4, 6, 8, 10]\n"
     ]
    }
   ],
   "source": [
    "x = [0,1,2,3,4,5,6,7,8,9, 10]\n",
    "even_numbers = []\n",
    "\n",
    "for i in x:\n",
    "    if x[i]%2 == 0:\n",
    "        even_numbers.append(x[i])\n",
    "\n",
    "print(even_numbers)"
   ]
  },
  {
   "cell_type": "markdown",
   "metadata": {},
   "source": [
    "DICTIONARIES"
   ]
  },
  {
   "cell_type": "code",
   "execution_count": 6,
   "metadata": {},
   "outputs": [
    {
     "name": "stdout",
     "output_type": "stream",
     "text": [
      "{0: 0, 1: 1, 2: 4, 3: 9, 4: 16}\n"
     ]
    }
   ],
   "source": [
    "square_dict = {x: x*x for x in range(5)} \n",
    "print(square_dict)"
   ]
  },
  {
   "cell_type": "code",
   "execution_count": 43,
   "metadata": {},
   "outputs": [
    {
     "name": "stdout",
     "output_type": "stream",
     "text": [
      "['a', 'e', 'i', 'o', 'u']\n"
     ]
    }
   ],
   "source": [
    "vowels = \"a_e_i_o_u\"\n",
    "\n",
    "new_list = []\n",
    "\n",
    "for i in range(0, len(vowels),2):\n",
    "    element = vowels[i]\n",
    "    new_list.append(element)\n",
    "\n",
    "print(new_list)"
   ]
  },
  {
   "cell_type": "markdown",
   "metadata": {},
   "source": [
    "- List to dictionary"
   ]
  },
  {
   "cell_type": "code",
   "execution_count": 33,
   "metadata": {},
   "outputs": [
    {
     "name": "stdout",
     "output_type": "stream",
     "text": [
      "{'Capital': ['London', 'Beijing'], 'Food': ['Fish & Chips', 'Noodles'], 'Year': ['2012', '2008']}\n"
     ]
    }
   ],
   "source": [
    "field_names = ['Capital', 'Food', 'Year']\n",
    "field_values = [['London', 'Fish & Chips', '2012'], ['Beijing', 'Noodles', '2008'],\n",
    "]\n",
    "new_dict = {}\n",
    "for name in field_names:\n",
    "    new_dict[name] = []\n",
    "\n",
    "for j in range(len(field_values)):\n",
    "    \n",
    "    for k in range(len(field_names)):\n",
    "        key_is = field_names[k]\n",
    "        value_is = field_values[j][k]\n",
    "        new_dict[key_is].append(value_is)\n",
    "\n",
    "print(new_dict)"
   ]
  },
  {
   "cell_type": "code",
   "execution_count": 41,
   "metadata": {},
   "outputs": [
    {
     "name": "stdout",
     "output_type": "stream",
     "text": [
      "{'Entry 1': {'Capital': 'London', 'Food': 'Fish & Chips', 'Year': '2012'}, 'Entry 2': {'Capital': 'Beijing', 'Food': 'Noodles', 'Year': '2008'}}\n"
     ]
    }
   ],
   "source": [
    "field_names = ['Capital', 'Food', 'Year']\n",
    "field_values = [['London', 'Fish & Chips', '2012'], ['Beijing', 'Noodles', '2008'],\n",
    "]\n",
    "new_dict = {}\n",
    "\n",
    "for j in range(len(field_values)):\n",
    "    temp = {}\n",
    "    for k in range(len(field_names)):\n",
    "        key_is = field_names[k]\n",
    "        value_is = field_values[j][k]\n",
    "        temp[key_is] = value_is\n",
    "    entries = f\"Entry {j+1}\"\n",
    "    new_dict[entries] = temp\n",
    "        \n",
    "\n",
    "print(new_dict)"
   ]
  },
  {
   "cell_type": "markdown",
   "metadata": {},
   "source": [
    "- Dictionary to list"
   ]
  },
  {
   "cell_type": "code",
   "execution_count": 7,
   "metadata": {},
   "outputs": [
    {
     "name": "stdout",
     "output_type": "stream",
     "text": [
      "[[0, 0], [1, 1], [2, 4], [3, 9], [4, 16]]\n"
     ]
    }
   ],
   "source": [
    "square_dict_to_list = list(map(list, square_dict.items()))\n",
    "print(square_dict_to_list)"
   ]
  },
  {
   "cell_type": "code",
   "execution_count": 8,
   "metadata": {},
   "outputs": [
    {
     "name": "stdout",
     "output_type": "stream",
     "text": [
      "[0, 1, 2, 3, 4]\n"
     ]
    }
   ],
   "source": [
    "square_dict_list_of_keys = list(square_dict.keys())\n",
    "print(square_dict_list_of_keys)"
   ]
  },
  {
   "cell_type": "code",
   "execution_count": 9,
   "metadata": {},
   "outputs": [
    {
     "name": "stdout",
     "output_type": "stream",
     "text": [
      "[0, 1, 4, 9, 16]\n"
     ]
    }
   ],
   "source": [
    "square_dict_list_of_values = list(square_dict.values())\n",
    "print(square_dict_list_of_values)"
   ]
  },
  {
   "cell_type": "markdown",
   "metadata": {},
   "source": [
    "- Sorting"
   ]
  },
  {
   "cell_type": "code",
   "execution_count": 12,
   "metadata": {},
   "outputs": [
    {
     "name": "stdout",
     "output_type": "stream",
     "text": [
      "x: [3, 2, 4, 1]\n",
      "y: [1, 2, 3, 4]\n"
     ]
    }
   ],
   "source": [
    "x = [3,2,4,1]\n",
    "y = sorted(x)\n",
    "print(\"x:\", x)\n",
    "print(\"y:\", y)"
   ]
  },
  {
   "cell_type": "code",
   "execution_count": 13,
   "metadata": {},
   "outputs": [
    {
     "name": "stdout",
     "output_type": "stream",
     "text": [
      "x: [1, 2, 3, 4]\n"
     ]
    }
   ],
   "source": [
    "x.sort()\n",
    "print(\"x:\", x)"
   ]
  },
  {
   "cell_type": "code",
   "execution_count": null,
   "metadata": {},
   "outputs": [],
   "source": []
  },
  {
   "cell_type": "markdown",
   "metadata": {},
   "source": [
    "- Filtering"
   ]
  },
  {
   "cell_type": "code",
   "execution_count": null,
   "metadata": {},
   "outputs": [],
   "source": []
  },
  {
   "cell_type": "markdown",
   "metadata": {},
   "source": [
    "- Cleansing"
   ]
  },
  {
   "cell_type": "code",
   "execution_count": null,
   "metadata": {},
   "outputs": [],
   "source": []
  }
 ],
 "metadata": {
  "kernelspec": {
   "display_name": "Python 3",
   "language": "python",
   "name": "python3"
  },
  "language_info": {
   "codemirror_mode": {
    "name": "ipython",
    "version": 3
   },
   "file_extension": ".py",
   "mimetype": "text/x-python",
   "name": "python",
   "nbconvert_exporter": "python",
   "pygments_lexer": "ipython3",
   "version": "3.11.9"
  }
 },
 "nbformat": 4,
 "nbformat_minor": 2
}

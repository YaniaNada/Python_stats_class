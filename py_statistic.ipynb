{
 "cells": [
  {
   "cell_type": "markdown",
   "metadata": {},
   "source": [
    "#### What are lists, dictionaries, tuples?\n",
    "Define the object, what is it's purpose, and a use case example."
   ]
  },
  {
   "cell_type": "markdown",
   "metadata": {
    "vscode": {
     "languageId": "plaintext"
    }
   },
   "source": [
    "#### List comprehensions:"
   ]
  },
  {
   "cell_type": "markdown",
   "metadata": {},
   "source": [
    "- String to list:"
   ]
  },
  {
   "cell_type": "code",
   "execution_count": null,
   "metadata": {
    "vscode": {
     "languageId": "plaintext"
    }
   },
   "outputs": [],
   "source": [
    "vowels = \"a_e_i_o_u\"\n",
    "\n",
    "new_list = []\n",
    "\n",
    "for i in range(0, len(vowels),2):\n",
    "    element = vowels[i]\n",
    "    new_list.append(element)\n",
    "\n",
    "print(new_list)\n",
    "\n",
    "\n",
    "#OUTPUT: ['a', 'e', 'i', 'o', 'u']"
   ]
  },
  {
   "cell_type": "markdown",
   "metadata": {},
   "source": [
    "- List to another list:"
   ]
  },
  {
   "cell_type": "code",
   "execution_count": null,
   "metadata": {
    "vscode": {
     "languageId": "plaintext"
    }
   },
   "outputs": [],
   "source": [
    "even_numbers = [x for x in range(10) if x%2 == 0]\n",
    "print(even_numbers)\n",
    "\n",
    "# OUTPUT: [0,2,4,6,8]"
   ]
  },
  {
   "cell_type": "code",
   "execution_count": null,
   "metadata": {
    "vscode": {
     "languageId": "plaintext"
    }
   },
   "outputs": [],
   "source": [
    "# Example: \n",
    "\n",
    "x = [0,1,2,3,4,5,6,7,8,9, 10]\n",
    "even_numbers = []\n",
    "\n",
    "for i in x:\n",
    "    if x[i]%2 == 0:\n",
    "        even_numbers.append(x[i])\n",
    "\n",
    "print(even_numbers)\n",
    "\n",
    "\n",
    "# OUTPUT: [0, 2, 4, 6, 8, 10]"
   ]
  },
  {
   "cell_type": "markdown",
   "metadata": {},
   "source": [
    "- List to dictionary:"
   ]
  },
  {
   "cell_type": "code",
   "execution_count": null,
   "metadata": {
    "vscode": {
     "languageId": "plaintext"
    }
   },
   "outputs": [],
   "source": [
    "Example 1:\n",
    "\n",
    "square_dict = {x: x*x for x in range(5)} \n",
    "\n",
    "# OUTPUT: {0:0, 1:1, 2:4, 3:9, 4:16}"
   ]
  },
  {
   "cell_type": "code",
   "execution_count": null,
   "metadata": {
    "vscode": {
     "languageId": "plaintext"
    }
   },
   "outputs": [],
   "source": [
    "# Example 2: List within a dictionary\n",
    "\n",
    "field_names = ['Capital', 'Food', 'Year']\n",
    "field_values = [['London', 'Fish & Chips', '2012'], ['Beijing', 'Noodles', '2008'],\n",
    "]\n",
    "new_dict = {}\n",
    "for name in field_names:\n",
    "    new_dict[name] = []\n",
    "\n",
    "for j in range(len(field_values)):\n",
    "    \n",
    "    for k in range(len(field_names)):\n",
    "        key_is = field_names[k]\n",
    "        value_is = field_values[j][k]\n",
    "        new_dict[key_is].append(value_is)\n",
    "\n",
    "print(new_dict)\n",
    "\n",
    "# OUTPUT: {'Capital': ['London', 'Beijing'], 'Food': ['Fish & Chips', 'Noodles'], 'Year': ['2012', '2008']}\n"
   ]
  },
  {
   "cell_type": "code",
   "execution_count": null,
   "metadata": {
    "vscode": {
     "languageId": "plaintext"
    }
   },
   "outputs": [],
   "source": [
    "Example 3: Dictionary within a dictionary\n",
    "\n",
    "field_names = ['Capital', 'Food', 'Year']\n",
    "field_values = [['London', 'Fish & Chips', '2012'], ['Beijing', 'Noodles', '2008'],\n",
    "]\n",
    "new_dict = {}\n",
    "\n",
    "for j in range(len(field_values)):\n",
    "    temp = {}\n",
    "    for k in range(len(field_names)):\n",
    "        key_is = field_names[k]\n",
    "        value_is = field_values[j][k]\n",
    "        temp[key_is] = value_is\n",
    "    entries = f\"Entry {j+1}\"\n",
    "    new_dict[entries] = temp\n",
    "        \n",
    "\n",
    "print(new_dict)\n",
    "\n",
    "# OUTPUT: {'Entry 1': {'Capital': 'London', 'Food': 'Fish & Chips', 'Year': '2012'}, 'Entry 2': {'Capital': 'Beijing', 'Food': 'Noodles', 'Year': '2008'}}\n"
   ]
  },
  {
   "cell_type": "markdown",
   "metadata": {},
   "source": [
    "- Dictionary to list:"
   ]
  },
  {
   "cell_type": "markdown",
   "metadata": {},
   "source": [
    "Examples:"
   ]
  },
  {
   "cell_type": "code",
   "execution_count": null,
   "metadata": {
    "vscode": {
     "languageId": "plaintext"
    }
   },
   "outputs": [],
   "source": [
    "# Example 1: key-values pairs as list\n",
    "\n",
    "square_dict ={0:0, 1:1, 2:4, 3:9, 4:16}\n",
    "\n",
    "square_dict_to_list = list(map(list, square_dict.items()))\n",
    "\n",
    "# OUTPUT: [[0, 0], [1, 1], [2, 4], [3, 9], [4, 16]]"
   ]
  },
  {
   "cell_type": "code",
   "execution_count": null,
   "metadata": {
    "vscode": {
     "languageId": "plaintext"
    }
   },
   "outputs": [],
   "source": [
    "#Example 2: all keys in a list\n",
    "\n",
    "square_dict_list_of_keys = list(square_dict.keys())\n",
    "\n",
    "# OUTPUT: [0, 1, 2, 3, 4]"
   ]
  },
  {
   "cell_type": "code",
   "execution_count": null,
   "metadata": {
    "vscode": {
     "languageId": "plaintext"
    }
   },
   "outputs": [],
   "source": [
    "# Example 3: all values in a list\n",
    "\n",
    "square_dict_list_of_values = list(square_dict.values())\n",
    "\n",
    "# OUTPUT: [0, 1, 4, 9, 16]"
   ]
  },
  {
   "cell_type": "markdown",
   "metadata": {},
   "source": [
    "#### Iteration over a list:\n",
    "\n"
   ]
  },
  {
   "cell_type": "code",
   "execution_count": null,
   "metadata": {
    "vscode": {
     "languageId": "plaintext"
    }
   },
   "outputs": [],
   "source": [
    "new_list = []\n",
    "dict = {test:1, test:2, test:3}\n",
    "for key, value in dict.items():\n",
    "    new_list.append([key, value])"
   ]
  },
  {
   "cell_type": "code",
   "execution_count": null,
   "metadata": {
    "vscode": {
     "languageId": "plaintext"
    }
   },
   "outputs": [],
   "source": [
    "# Example: list = [2,5,6,1,8,3,9]\n",
    "i = 0\n",
    "for i in range(len(list)):\n",
    "    do_something(i)\n",
    "\n",
    "# len(): A function that counts number of elements within a list or character in a string."
   ]
  },
  {
   "cell_type": "markdown",
   "metadata": {},
   "source": [
    "#### Sorting:"
   ]
  },
  {
   "cell_type": "code",
   "execution_count": null,
   "metadata": {
    "vscode": {
     "languageId": "plaintext"
    }
   },
   "outputs": [],
   "source": [
    "# Example:\n",
    "\n",
    "x = [3,2,4,1]\n",
    "y = sorted(x)   # y = [1,2,3,4], x is unchanged\n",
    "x.sort()        # now x is [1,2,3,4]"
   ]
  },
  {
   "cell_type": "markdown",
   "metadata": {
    "vscode": {
     "languageId": "plaintext"
    }
   },
   "source": [
    "#### Booleans:\n",
    "What are considered \"True\" and \"False\" in Python?\n",
    "These are treated as False:\n",
    "- False\n",
    "- None\n",
    "- []\n",
    "- {}\n",
    "- \"\"\n",
    "- set()\n",
    "- 0\n",
    "- 0.0\n",
    "\n",
    "Anything else gets treated as True. Basically, empty values are treated as False."
   ]
  },
  {
   "cell_type": "markdown",
   "metadata": {},
   "source": [
    "### What is Pandas dataframe?\n",
    "\n",
    "Why we use dataframe? Show a dataframe."
   ]
  },
  {
   "cell_type": "code",
   "execution_count": null,
   "metadata": {
    "vscode": {
     "languageId": "plaintext"
    }
   },
   "outputs": [],
   "source": [
    "# To read data from a CSV file and storing it in a dataframe\n",
    "\n",
    "df = pd.read_csv(): Function to read CSV file"
   ]
  },
  {
   "cell_type": "code",
   "execution_count": null,
   "metadata": {
    "vscode": {
     "languageId": "plaintext"
    }
   },
   "outputs": [],
   "source": [
    "df.shape: Property to see the number of rows and columns\n",
    "\n",
    "df.head(): Method to show the first 5 row of the data\n",
    "\n",
    "df.tail(): Method to show the last 5 row of the data\n",
    "\n",
    "df.info(): Method to show information about the data\n",
    "\n",
    "df.describe(): Method to get an overview of the data\n",
    "\n",
    "df['column_name'].value_counts(): Method to get count of unique values"
   ]
  },
  {
   "cell_type": "markdown",
   "metadata": {},
   "source": [
    "#### Cleansing & transformation:"
   ]
  },
  {
   "cell_type": "code",
   "execution_count": null,
   "metadata": {
    "vscode": {
     "languageId": "plaintext"
    }
   },
   "outputs": [],
   "source": [
    "# Drop irrelevant columns:\n",
    "\n",
    "df.drop(columns =['col_1_name'], ['col_2_name'], inplace=True)"
   ]
  },
  {
   "cell_type": "code",
   "execution_count": null,
   "metadata": {
    "vscode": {
     "languageId": "plaintext"
    }
   },
   "outputs": [],
   "source": [
    "# Remove duplicates:\n",
    "\n",
    "duplicated(): Method to see for duplicate rows\n",
    "-> df.duplicated()\n",
    "\n",
    "drop_duplicates(): Method to drop duplicates\n",
    "-> df.drop_duplicates()"
   ]
  },
  {
   "cell_type": "code",
   "execution_count": null,
   "metadata": {
    "vscode": {
     "languageId": "plaintext"
    }
   },
   "outputs": [],
   "source": [
    "# Deal with null values:\n",
    "\n",
    "isnull(): Method to see rows with missing values\n",
    "-> df.isnull()\n",
    "\n",
    "notnull(): Method to see rows without missing values\n",
    "-> df.notnull()\n",
    "\n",
    "dropna(): Method to drop null values\n",
    "-> df.dropna()\n",
    "\n",
    "fillna(): Method to replace null values with a specific value\n",
    "-> df.fillna(0)"
   ]
  },
  {
   "cell_type": "code",
   "execution_count": null,
   "metadata": {
    "vscode": {
     "languageId": "plaintext"
    }
   },
   "outputs": [],
   "source": [
    "To rename columns/fields in the dataframe\n",
    "-> df.rename(columns = {'old_value': 'new_value', 'old_value': 'new_value', ...)"
   ]
  },
  {
   "cell_type": "code",
   "execution_count": null,
   "metadata": {
    "vscode": {
     "languageId": "plaintext"
    }
   },
   "outputs": [],
   "source": [
    "To replace values in the dataframe\n",
    "-> df['column_name'].replace('old_value', 'new_value')"
   ]
  },
  {
   "cell_type": "markdown",
   "metadata": {},
   "source": [
    "#### Filters:"
   ]
  },
  {
   "cell_type": "markdown",
   "metadata": {},
   "source": []
  },
  {
   "cell_type": "markdown",
   "metadata": {},
   "source": [
    "### 💭Exercise : Read a dataset and perform cleansing & transformation."
   ]
  },
  {
   "cell_type": "markdown",
   "metadata": {},
   "source": [
    "__________________________________________________________________________________"
   ]
  },
  {
   "cell_type": "markdown",
   "metadata": {},
   "source": [
    "### STATISTICS:"
   ]
  },
  {
   "cell_type": "markdown",
   "metadata": {},
   "source": [
    "- Central tendencies: Mean and Median"
   ]
  },
  {
   "cell_type": "markdown",
   "metadata": {},
   "source": [
    "-- Mean = (sum of observations)/(number of observations)\n",
    "\n",
    "-- Median = Middle value in a sorted list of values. (If number of values is even: take the average of two ,middle-most values)"
   ]
  },
  {
   "cell_type": "markdown",
   "metadata": {},
   "source": [
    "mean(): Function to compute mean\n",
    "\n",
    "Add an example"
   ]
  },
  {
   "cell_type": "markdown",
   "metadata": {},
   "source": [
    "median(): Function to compute median\n",
    "\n",
    "Add an example"
   ]
  },
  {
   "cell_type": "markdown",
   "metadata": {},
   "source": [
    "NOTE: Median is prefered usually in dataset with a wide range or when there are outliers, because the mean value gets easily skewed by large variance in data or outliers."
   ]
  },
  {
   "cell_type": "markdown",
   "metadata": {},
   "source": [
    "#### Measuring dispersion of data:"
   ]
  },
  {
   "cell_type": "markdown",
   "metadata": {},
   "source": [
    "- Range"
   ]
  },
  {
   "cell_type": "code",
   "execution_count": null,
   "metadata": {
    "vscode": {
     "languageId": "plaintext"
    }
   },
   "outputs": [],
   "source": [
    "max(): Function to compute maximum value in the data\n",
    "min(): Function to compute minimum value in the data\n",
    "\n",
    "range_of_dataset = sample.max() - sample.min()"
   ]
  },
  {
   "cell_type": "markdown",
   "metadata": {},
   "source": [
    "- Midspread\n",
    "\n",
    "\n",
    "Measures the spread of the middle 50% of values in a sorted dataset.\n",
    "\n",
    "Midspread = upper quartile - lower quartile\n",
    "\n",
    "(A picture of interquartile range to show what is the upper quartile and the lower quartile: \n",
    "\n",
    "https://www.investopedia.com/thmb/Jobl23O66fYxnelnF4zGrH8A-e8=/750x0/filters:no_upscale():max_bytes(150000):strip_icc():format(webp)/quartileexample2-86e1fae9d3cf48c38dc5569ec7d677d1.jpg\n",
    "\n",
    "https://www.scribbr.com/wp-content/uploads/2022/05/Quartiles-probability-distribution.webp)"
   ]
  },
  {
   "cell_type": "markdown",
   "metadata": {},
   "source": [
    "- Variance\n",
    "\n",
    "Gives measure of variance, i.e, how spread out the data is."
   ]
  },
  {
   "cell_type": "code",
   "execution_count": null,
   "metadata": {
    "vscode": {
     "languageId": "plaintext"
    }
   },
   "outputs": [],
   "source": [
    "var(): Function to compute variance"
   ]
  },
  {
   "cell_type": "markdown",
   "metadata": {},
   "source": [
    "- Standard Deviation\n",
    "\n",
    "Gives measure of deviation from mean value. It is a measure of typical difference between each value and the mean\n",
    "\n",
    "Low Standard Deviation -> data is less spread out, data values are closer to mean value.\n",
    "\n",
    "High Standard Deviation -> data is more spread out, data values are farther from mean value."
   ]
  },
  {
   "cell_type": "code",
   "execution_count": null,
   "metadata": {
    "vscode": {
     "languageId": "plaintext"
    }
   },
   "outputs": [],
   "source": [
    "stdev(): Function to compute standard deviation"
   ]
  },
  {
   "cell_type": "markdown",
   "metadata": {},
   "source": [
    "NOTE: Typically, we use standard deviation to measure dispersion of data because unit of standard deviation is same as the original data, variance is in different units so it's harder to interpret directly."
   ]
  },
  {
   "cell_type": "markdown",
   "metadata": {},
   "source": [
    "### 💭Exercise : Create a mean, median, and standard deviation calculator."
   ]
  },
  {
   "cell_type": "markdown",
   "metadata": {},
   "source": [
    "__________________________________________________________________________"
   ]
  },
  {
   "cell_type": "markdown",
   "metadata": {},
   "source": [
    "### Correlation"
   ]
  },
  {
   "cell_type": "markdown",
   "metadata": {},
   "source": [
    "- Correlation: \n",
    "\n",
    "Gives relationship between variables, i.e., the extent to which two variables moves together.\n",
    "\n",
    "Moving in same direction: Positive correlation\n",
    "\n",
    "Moving in opposite direction: Negative correlation\n",
    "\n",
    "Using correlation, we can use one variable (independent / explanatory variable) to predict the behavior of another variable (dependent / response variable)."
   ]
  },
  {
   "cell_type": "markdown",
   "metadata": {},
   "source": [
    "USE: Correlation is used in Exploratory Data Analysis, understanding relationships between variables is essential for generating hypotheses and insights."
   ]
  },
  {
   "cell_type": "code",
   "execution_count": null,
   "metadata": {
    "vscode": {
     "languageId": "plaintext"
    }
   },
   "outputs": [],
   "source": [
    "corr(): Function to compute correlation"
   ]
  },
  {
   "cell_type": "markdown",
   "metadata": {},
   "source": [
    "NOTE 1: Correlation -- DOES NOT EQUAL TO -- Causality. Correlation does not mean that change in one variable is the cause of the change in the values of the other variable"
   ]
  },
  {
   "cell_type": "markdown",
   "metadata": {},
   "source": [
    "NOTE 2: Spurious correlation is when one variables \"appears\" to have correlation with another variable, when they are not linked. Their correlation may be due to coincidence or influence of a third, unrelated factor."
   ]
  },
  {
   "cell_type": "markdown",
   "metadata": {},
   "source": [
    "- Covariance:\n",
    "\n",
    "Gives the nature of correlation. \n",
    "\n",
    "Covariance is 0 -> Variables are independent to each other\n",
    "\n",
    "Covariance > 0 -> Positive correlation, variables moves in same direction\n",
    "\n",
    "Covariance < 0 -> Negative correlation, variables moves in opposite direction"
   ]
  },
  {
   "cell_type": "markdown",
   "metadata": {},
   "source": [
    "- Pearson's correlation coefficient:\n",
    "\n",
    "Gives the strength of the relation between variables. It ranges from -1 to +1. The value must be interpreted. "
   ]
  },
  {
   "cell_type": "code",
   "execution_count": null,
   "metadata": {
    "vscode": {
     "languageId": "plaintext"
    }
   },
   "outputs": [],
   "source": [
    "Pearson's correlation coefficient = covariance(x,y) / (stdev(x) * stdev(y))"
   ]
  },
  {
   "cell_type": "markdown",
   "metadata": {},
   "source": [
    "0: No correlation\n",
    "\n",
    "0.5 to 1: notable positive correlation, where 1 signify perfect positive correlation\n",
    "\n",
    "-0.5 to -1: notable negative correlation, where -1 signify perfect negative correlation"
   ]
  },
  {
   "cell_type": "markdown",
   "metadata": {},
   "source": []
  }
 ],
 "metadata": {
  "language_info": {
   "name": "python"
  }
 },
 "nbformat": 4,
 "nbformat_minor": 2
}
